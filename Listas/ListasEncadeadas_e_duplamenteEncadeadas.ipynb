{
 "cells": [
  {
   "cell_type": "markdown",
   "id": "af2f9786",
   "metadata": {},
   "source": [
    "#### As listas encadeadas e listas duplamente encadeadas são estruturas de dados comuns usadas em programação para armazenar e manipular coleções de elementos. Elas são especialmente úteis quando o número de elementos é desconhecido ou pode mudar ao longo do tempo. Nesta documentação, vamos explorar o conceito de listas encadeadas e listas duplamente encadeadas, como elas funcionam e como implementá-las em Python.\n",
    "\n",
    "### Listas Encadeadas\n",
    "#### Uma lista encadeada é uma estrutura de dados na qual cada elemento é um objeto que contém um valor e um ponteiro para o próximo objeto da lista. O último elemento da lista aponta para um objeto especial chamado de \"sentinela\" ou \"nó de término\", que marca o final da lista.\n",
    "\n",
    "### Implementação de Listas Encadeadas em Python\n",
    "#### A implementação de listas encadeadas em Python pode ser realizada criando uma classe Node que representa cada elemento da lista. Cada objeto Node contém um valor e um ponteiro para o próximo objeto Node. A classe LinkedList é então usada para criar a lista encadeada e implementar os métodos para adicionar, remover e acessar elementos da lista."
   ]
  },
  {
   "cell_type": "code",
   "execution_count": 2,
   "id": "5f9c94f1",
   "metadata": {},
   "outputs": [],
   "source": [
    "# Classe que representa cada elemento da lista\n",
    "class Node:\n",
    "    def __init__(self, data=None):\n",
    "        self.data = data   # Valor armazenado no nó\n",
    "        self.next = None   # Ponteiro para o próximo nó da lista\n",
    "\n",
    "# Classe que representa a lista encadeada\n",
    "class LinkedList:\n",
    "    def __init__(self):\n",
    "        self.head = Node()   # Criação do nó sentinela vazio como o primeiro elemento da lista\n",
    "\n",
    "    # Método para adicionar um elemento ao final da lista\n",
    "    def append(self, data):\n",
    "        new_node = Node(data)   # Criação de um novo nó com o valor passado como parâmetro\n",
    "        cur = self.head         # Criação de um ponteiro para o nó sentinela\n",
    "\n",
    "        # Navegação até o último elemento da lista\n",
    "        while cur.next != None:\n",
    "            cur = cur.next\n",
    "\n",
    "        # Adição do novo nó ao final da lista\n",
    "        cur.next = new_node\n",
    "\n",
    "    # Método para obter o tamanho da lista\n",
    "    def length(self):\n",
    "        cur = self.head   # Criação de um ponteiro para o nó sentinela\n",
    "        total = 0\n",
    "\n",
    "        # Navegação por todos os nós da lista, contando cada um deles\n",
    "        while cur.next != None:\n",
    "            total += 1\n",
    "            cur = cur.next\n",
    "\n",
    "        return total\n",
    "\n",
    "    # Método para exibir a lista\n",
    "    def display(self):\n",
    "        elems = []         # Lista para armazenar os valores dos nós\n",
    "        cur_node = self.head\n",
    "\n",
    "        # Navegação por todos os nós da lista, adicionando o valor de cada nó à lista elems\n",
    "        while cur_node.next != None:\n",
    "            cur_node = cur_node.next\n",
    "            elems.append(cur_node.data)\n",
    "\n",
    "        print(elems)       # Exibe a lista de valores dos nós\n"
   ]
  },
  {
   "cell_type": "markdown",
   "id": "448dda5d",
   "metadata": {},
   "source": [
    "#### Este código cria uma classe Node que representa cada elemento da lista, contendo um valor (data) e um ponteiro para o próximo objeto Node (next). A classe LinkedList usa a classe Node para criar a lista encadeada, inicializada com um nó sentinela vazio. Em seguida, são definidos métodos para adicionar elementos (append), obter o tamanho da lista (length) e exibir a lista (display)."
   ]
  },
  {
   "cell_type": "markdown",
   "id": "9a4eff5e",
   "metadata": {},
   "source": [
    "### Listas Duplamente Encadeadas\n",
    "#### As listas duplamente encadeadas são semelhantes às listas encadeadas, com a diferença de que cada objeto contém um ponteiro adicional para o objeto anterior da lista. Isso permite a navegação para frente e para trás na lista.\n",
    "\n",
    "### Implementação de Listas Duplamente Encadeadas em Python\n",
    "#### A implementação de listas duplamente encadeadas em Python segue um padrão semelhante ao das listas encadeadas. Neste caso, cada objeto Node contém um valor, um ponteiro para o próximo objeto Node e um ponteiro para o objeto Node anterior."
   ]
  },
  {
   "cell_type": "code",
   "execution_count": 4,
   "id": "6ad11e42",
   "metadata": {},
   "outputs": [],
   "source": [
    "# Classe que representa cada elemento da lista\n",
    "class Node:\n",
    "    def __init__(self, data=None):\n",
    "        self.data = data   # Valor armazenado no nó\n",
    "        self.next = None   # Ponteiro para o próximo nó da lista\n",
    "        self.prev = None   # Ponteiro para o nó anterior da lista\n",
    "\n",
    "# Classe que representa a lista duplamente encadeada\n",
    "class DoublyLinkedList:\n",
    "    def __init__(self):\n",
    "        self.head = Node()   # Criação do nó sentinela vazio como o primeiro elemento da lista\n",
    "\n",
    "    # Método para adicionar um elemento ao final da lista\n",
    "    def append(self, data):\n",
    "        new_node = Node(data)   # Criação de um novo nó com o valor passado como parâmetro\n",
    "        cur = self.head         # Criação de um ponteiro para o nó sentinela\n",
    "\n",
    "        # Navegação até o último elemento da lista\n",
    "        while cur.next != None:\n",
    "            cur = cur.next\n",
    "\n",
    "        # Adição do novo nó ao final da lista\n",
    "        cur.next = new_node\n",
    "        new_node.prev = cur\n",
    "\n",
    "    # Método para obter o tamanho da lista\n",
    "    def length(self):\n",
    "        cur = self.head   # Criação de um ponteiro para o nó sentinela\n",
    "        total = 0\n",
    "\n",
    "        # Navegação por todos os nós da lista, contando cada um deles\n",
    "        while cur.next != None:\n",
    "            total += 1\n",
    "            cur = cur.next\n",
    "\n",
    "        return total\n",
    "\n",
    "    # Método para exibir a lista\n",
    "    def display(self):\n",
    "        elems = []         # Lista para armazenar os valores dos nós\n",
    "        cur_node = self.head\n",
    "\n",
    "        # Navegação por todos os nós da lista, adicionando o valor de cada nó à lista elems\n",
    "        while cur_node.next != None:\n",
    "            cur_node = cur_node.next\n",
    "            elems.append(cur_node.data)\n",
    "\n",
    "        print(elems)       # Exibe a lista de valores dos nós\n",
    "\n",
    "    # Método para exibir a lista de trás para frente\n",
    "    def display_reverse(self):\n",
    "        elems = []         # Lista para armazenar os valores dos nós\n",
    "        cur_node = self.head\n",
    "\n",
    "        # Navegação até o último nó da lista\n",
    "        while cur_node.next != None:\n",
    "            cur_node = cur_node.next\n",
    "\n",
    "        # Navegação por todos os nós da lista, adicionando o valor de cada nó à lista elems na ordem reversa\n",
    "        while cur_node.prev != None:\n",
    "            elems.append(cur_node.data)\n",
    "            cur_node = cur_node.prev\n",
    "\n",
    "        print(elems)       # Exibe a lista de valores dos nós em ordem reversa\n"
   ]
  },
  {
   "cell_type": "markdown",
   "id": "07d95fb8",
   "metadata": {},
   "source": [
    "#### O código acima define duas classes em Python: LinkedList e Node, que juntas representam uma lista encadeada simples.\n",
    "\n",
    "#### A classe Node representa cada elemento (ou nó) da lista, com dois atributos: data, que armazena o valor do elemento, e next, que é um ponteiro para o próximo elemento da lista. A classe LinkedList, por sua vez, representa a lista propriamente dita, com um atributo head que é um nó sentinela vazio (sem valor associado), e métodos para manipular a lista, tais como:\n",
    "\n",
    "#### append(data): adiciona um novo elemento com valor data ao final da lista;\n",
    "#### length(): retorna o número de elementos da lista;\n",
    "#### display(): exibe na tela os valores de todos os elementos da lista.\n",
    "#### O código também define uma classe DoublyLinkedList, que representa uma lista duplamente encadeada, onde cada nó possui dois ponteiros, um para o elemento anterior e outro para o próximo elemento da lista. Essa classe possui métodos semelhantes aos da classe LinkedList, além de um método adicional display_reverse(), que exibe os valores dos elementos da lista em ordem inversa."
   ]
  },
  {
   "cell_type": "code",
   "execution_count": 5,
   "id": "4c7d418e",
   "metadata": {},
   "outputs": [
    {
     "name": "stdout",
     "output_type": "stream",
     "text": [
      "3\n",
      "[5, 10, 15]\n"
     ]
    }
   ],
   "source": [
    "# Criando uma nova lista\n",
    "lista = LinkedList()\n",
    "\n",
    "# Adicionando elementos à lista\n",
    "lista.append(5)\n",
    "lista.append(10)\n",
    "lista.append(15)\n",
    "\n",
    "# Exibindo o comprimento da lista\n",
    "print(lista.length())   # Saída: 3\n",
    "\n",
    "# Exibindo os elementos da lista\n",
    "lista.display()         # Saída: [5, 10, 15]\n"
   ]
  },
  {
   "cell_type": "code",
   "execution_count": 7,
   "id": "3ad5ae45",
   "metadata": {},
   "outputs": [
    {
     "name": "stdout",
     "output_type": "stream",
     "text": [
      "3\n",
      "[5, 10, 15]\n",
      "[15, 10, 5]\n"
     ]
    }
   ],
   "source": [
    "# Criando uma nova lista duplamente encadeada\n",
    "lista_dupla = DoublyLinkedList()\n",
    "\n",
    "# Adicionando elementos à lista\n",
    "lista_dupla.append(5)\n",
    "lista_dupla.append(10)\n",
    "lista_dupla.append(15)\n",
    "\n",
    "# Exibindo o comprimento da lista\n",
    "print(lista_dupla.length())   # Saída: 3\n",
    "\n",
    "# Exibindo os elementos da lista\n",
    "lista_dupla.display()         # Saída: [5, 10, 15]\n",
    "\n",
    "# Exibindo os elementos da lista em ordem inversa\n",
    "lista_dupla.display_reverse() # Saída: [15, 10, 5]\n"
   ]
  },
  {
   "cell_type": "markdown",
   "id": "618662cc",
   "metadata": {},
   "source": [
    "#### Perceba que os métodos para adicionar elementos e exibir a lista são os mesmos para ambas as classes, mas a classe DoublyLinkedList possui um método adicional para exibir a lista em ordem inversa. Além disso, é importante lembrar que as classes LinkedList e DoublyLinkedList são independentes, e portanto é possível criar e manipular ambas em um mesmo programa sem problemas.\n",
    "\n",
    "\n",
    "\n"
   ]
  }
 ],
 "metadata": {
  "kernelspec": {
   "display_name": "Python 3 (ipykernel)",
   "language": "python",
   "name": "python3"
  },
  "language_info": {
   "codemirror_mode": {
    "name": "ipython",
    "version": 3
   },
   "file_extension": ".py",
   "mimetype": "text/x-python",
   "name": "python",
   "nbconvert_exporter": "python",
   "pygments_lexer": "ipython3",
   "version": "3.9.13"
  }
 },
 "nbformat": 4,
 "nbformat_minor": 5
}
