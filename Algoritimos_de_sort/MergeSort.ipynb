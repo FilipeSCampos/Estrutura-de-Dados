{
 "cells": [
  {
   "cell_type": "markdown",
   "id": "82abd27c",
   "metadata": {},
   "source": [
    "### MergeSort"
   ]
  },
  {
   "cell_type": "code",
   "execution_count": null,
   "id": "be413e7d",
   "metadata": {},
   "outputs": [],
   "source": [
    "def merge_sort(array):\n",
    "    if len(array) <= 1:     # base case - se a lista tiver tamanho menor ou igual a 1, retorna ela mesma\n",
    "        return array\n",
    "        \n",
    "    middle = len(array) // 2  # encontra o ponto médio da lista\n",
    "    left = array[:middle]    # divide a lista em duas metades\n",
    "    right = array[middle:]\n",
    "    \n",
    "    left = merge_sort(left)  # chama merge_sort recursivamente para ordenar a primeira metade\n",
    "    right = merge_sort(right)  # chama merge_sort recursivamente para ordenar a segunda metade\n",
    "    \n",
    "    return merge(left, right)  # retorna a lista ordenada usando a função merge\n",
    "    \n",
    "def merge(left, right):\n",
    "    result = []  # lista vazia para armazenar o resultado da união das duas sublistas ordenadas\n",
    "    i = 0  # índice para percorrer a primeira sublista\n",
    "    j = 0  # índice para percorrer a segunda sublista\n",
    "    while i < len(left) and j < len(right):  # enquanto houver elementos em ambas as sublistas\n",
    "        if left[i] < right[j]:  # se o elemento atual da primeira sublista for menor\n",
    "            result.append(left[i])  # adiciona o elemento à lista resultado\n",
    "            i += 1  # incrementa o índice da primeira sublista\n",
    "        else:  # caso contrário, se o elemento atual da segunda sublista for menor\n",
    "            result.append(right[j])  # adiciona o elemento à lista resultado\n",
    "            j += 1  # incrementa o índice da segunda sublista\n",
    "            \n",
    "    result += left[i:]  # adiciona o restante da primeira sublista à lista resultado\n",
    "    result += right[j:]  # adiciona o restante da segunda sublista à lista resultado\n",
    "    return result  # retorna a lista resultado ordenada e unida.\n"
   ]
  },
  {
   "cell_type": "markdown",
   "id": "bcb16707",
   "metadata": {},
   "source": [
    "##### O merge sort é um algoritmo de ordenação que utiliza a técnica de \"divisão e conquista\". Ele divide um array em duas metades iguais, ordena cada metade recursivamente e, em seguida, combina as duas metades em um único array ordenado."
   ]
  },
  {
   "cell_type": "markdown",
   "id": "e7ef49cb",
   "metadata": {},
   "source": [
    "##### A função merge_sort() é responsável por dividir o array em duas metades e chamar a função merge() para combiná-las em um array ordenado. A primeira verificação é se o comprimento do array é menor ou igual a 1. Se for, isso significa que o array já está ordenado, então podemos retorná-lo imediatamente."
   ]
  },
  {
   "cell_type": "markdown",
   "id": "a7e09624",
   "metadata": {},
   "source": [
    "##### Caso contrário, encontramos o índice do meio do array (middle), dividimos o array em duas partes iguais (à esquerda e à direita do índice do meio) e chamamos recursivamente merge_sort() para cada uma dessas partes. Isso faz com que cada metade do array seja dividida novamente até que o comprimento seja menor ou igual a 1."
   ]
  },
  {
   "cell_type": "markdown",
   "id": "ecbc1cbe",
   "metadata": {},
   "source": [
    "##### Finalmente, chamamos a função merge() passando as duas metades do array como argumentos e retornamos o resultado da função."
   ]
  },
  {
   "cell_type": "markdown",
   "id": "513c0520",
   "metadata": {},
   "source": [
    "##### A função merge() é responsável por combinar as duas metades ordenadas do array em um único array ordenado. Criamos uma lista vazia chamada result e inicializamos dois índices (i e j) para 0. Em seguida, usamos um loop while para comparar os elementos dos arrays left e right e adicionar o menor deles ao result. Incrementamos o índice correspondente ao array em que o elemento foi adicionado."
   ]
  },
  {
   "cell_type": "markdown",
   "id": "0d0e85af",
   "metadata": {},
   "source": [
    "##### Depois que um dos arrays for completamente percorrido, o loop terminará e precisamos adicionar os elementos restantes do outro array ao result. Isso é feito usando a notação de fatiamento do Python (result += left[i:] e result += right[j:]). Finalmente, retornamos o result."
   ]
  }
 ],
 "metadata": {
  "kernelspec": {
   "display_name": "Python 3 (ipykernel)",
   "language": "python",
   "name": "python3"
  },
  "language_info": {
   "codemirror_mode": {
    "name": "ipython",
    "version": 3
   },
   "file_extension": ".py",
   "mimetype": "text/x-python",
   "name": "python",
   "nbconvert_exporter": "python",
   "pygments_lexer": "ipython3",
   "version": "3.9.13"
  }
 },
 "nbformat": 4,
 "nbformat_minor": 5
}
