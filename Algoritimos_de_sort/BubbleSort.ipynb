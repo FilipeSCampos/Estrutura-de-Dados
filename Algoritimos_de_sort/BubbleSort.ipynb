{
 "cells": [
  {
   "cell_type": "markdown",
   "id": "1956bd8a",
   "metadata": {},
   "source": [
    "## BubbleSort\n"
   ]
  },
  {
   "cell_type": "code",
   "execution_count": 4,
   "id": "feb52563",
   "metadata": {},
   "outputs": [
    {
     "name": "stdout",
     "output_type": "stream",
     "text": [
      "[17, 20, 26, 31, 44, 54, 55, 77, 93]\n"
     ]
    }
   ],
   "source": [
    "# Definindo a função bubble_sort\n",
    "def bubble_sort(lista):\n",
    "    n = len(lista)  # Armazenando o comprimento da lista em uma variável\n",
    "    # Loop externo que percorre a lista\n",
    "    for i in range(n):\n",
    "        # Loop interno que percorre a lista, mas não precisa verificar os elementos já ordenados\n",
    "        for j in range(0, n-i-1):\n",
    "            # Verifica se o elemento atual é maior que o próximo elemento\n",
    "            if lista[j] > lista[j+1]:\n",
    "                # Se sim, troca os elementos de lugar usando uma atribuição múltipla\n",
    "                lista[j], lista[j+1] = lista[j+1], lista[j]\n",
    "\n",
    "# Criando uma lista de exemplo\n",
    "lista = [54,26,93,17,77,31,44,55,20]\n",
    "\n",
    "# Chamando a função bubble_sort passando a lista como argumento\n",
    "bubble_sort(lista)\n",
    "\n",
    "# Imprimindo a lista ordenada\n",
    "print(lista)"
   ]
  },
  {
   "cell_type": "markdown",
   "id": "832ac66f",
   "metadata": {},
   "source": [
    "### BubbleSort - Vantagens e Desvantagens\n",
    "\n",
    "* Simples de entender e implementar.\n",
    "* Uma desvantagem é que na prática ele tem execução lenta mesmo quando comparado a outros algoritmos quadráticos (n²).\n",
    "* Tem um número muito grande de movimentação de elementos, assim não deve ser usado se a estrutura a ser ordenada for complexa.\n",
    "\n",
    "##### Este é um exemplo de implementação do algoritmo Bubble Sort em Python. O algoritmo funciona comparando pares de elementos adjacentes na lista e trocando-os se estiverem fora de ordem.\n",
    "\n",
    "##### O que mudou nesta implementação é que o loop interno usa uma fórmula diferente para delimitar seu intervalo de verificação, que é range(0, n-i-1). Isso ocorre porque a cada passagem pelo loop externo, o número de elementos não ordenados diminui em 1, então não é necessário verificar novamente os elementos que já estão na posição correta.\n",
    "\n",
    "##### A instrução lista[j], lista[j+1] = lista[j+1], lista[j] é uma atribuição múltipla que permite trocar o valor das variáveis lista[j] e lista[j+1] sem usar uma variável temporária.\n",
    "\n",
    "##### Ao final, a função bubble_sort ordena a lista de entrada em ordem crescente. Em seguida, a lista é impressa na tela com a instrução print(lista)."
   ]
  }
 ],
 "metadata": {
  "kernelspec": {
   "display_name": "Python 3 (ipykernel)",
   "language": "python",
   "name": "python3"
  },
  "language_info": {
   "codemirror_mode": {
    "name": "ipython",
    "version": 3
   },
   "file_extension": ".py",
   "mimetype": "text/x-python",
   "name": "python",
   "nbconvert_exporter": "python",
   "pygments_lexer": "ipython3",
   "version": "3.9.13"
  }
 },
 "nbformat": 4,
 "nbformat_minor": 5
}
