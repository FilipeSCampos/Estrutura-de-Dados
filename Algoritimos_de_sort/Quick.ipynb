{
 "cells": [
  {
   "cell_type": "markdown",
   "id": "ad915d8c",
   "metadata": {},
   "source": [
    "### Documentação do algoritmo Quicksort em Python:\n",
    "\n",
    "#### O Quicksort é um algoritmo de ordenação eficiente que utiliza a estratégia de dividir para conquistar. Ele seleciona um elemento, chamado de pivô, e particiona a lista em duas sub-listas, uma com elementos menores que o pivô e outra com elementos maiores. Em seguida, ele recursivamente ordena as duas sub-listas.\n",
    "\n",
    "##### Implementação do Quicksort em Python:"
   ]
  },
  {
   "cell_type": "code",
   "execution_count": 3,
   "id": "6f53bcd2",
   "metadata": {},
   "outputs": [
    {
     "name": "stdout",
     "output_type": "stream",
     "text": [
      "[1, 2, 3, 5, 8, 9]\n"
     ]
    }
   ],
   "source": [
    "def quicksort(arr):\n",
    "    if len(arr) <= 1:  # Caso base: Se a lista tiver 0 ou 1 elemento, ela já está ordenada\n",
    "        return arr\n",
    "    else:\n",
    "        pivot = arr[0]  # Seleciona o primeiro elemento como pivô\n",
    "        lesser = [x for x in arr[1:] if x <= pivot]  # Cria uma lista de elementos menores ou iguais ao pivô\n",
    "        greater = [x for x in arr[1:] if x > pivot]  # Cria uma lista de elementos maiores que o pivô\n",
    "        return quicksort(lesser) + [pivot] + quicksort(greater)  # Ordena recursivamente as sub-listas e concatena os resultados\n",
    "\n",
    "# Exemplo de uso:\n",
    "arr = [5, 2, 8, 3, 1, 9]\n",
    "sorted_arr = quicksort(arr)\n",
    "print(sorted_arr)"
   ]
  },
  {
   "cell_type": "markdown",
   "id": "329bf3e9",
   "metadata": {},
   "source": [
    "#### Melhor caso de tempo:\n",
    "##### O melhor caso ocorre quando o pivô divide a lista em duas sub-listas de tamanhos iguais ou próximos. Nesse caso, o tempo de execução do Quicksort é O(n log n), onde n é o tamanho da lista.\n",
    "\n",
    "#### Pior caso de tempo:\n",
    "##### O pior caso ocorre quando o pivô sempre é escolhido como o menor ou o maior elemento da lista. Nesse caso, o tempo de execução do Quicksort é O(n^2), onde n é o tamanho da lista. No entanto, a implementação acima evita esse cenário, escolhendo o pivô como o primeiro elemento da lista.\n",
    "\n",
    "#### Caso médio de tempo:\n",
    "##### O caso médio do Quicksort tem um desempenho médio entre o melhor e o pior caso, e é O(n log n), onde n é o tamanho da lista. Isso ocorre porque o algoritmo divide a lista em duas partes aproximadamente iguais em cada iteração.\n",
    "\n",
    "#### Uso de memória:\n",
    "##### O Quicksort tem um uso de memória relativamente baixo, uma vez que a reordenação dos elementos é feita in-place, ou seja, sem a necessidade de criar novas listas. A complexidade de espaço do Quicksort é O(log n), onde n é o tamanho da lista, devido à recursão.\n",
    "\n",
    "#### Estabilidade:\n",
    "##### O Quicksort não é um algoritmo estável, o que significa que a ordem relativa de elementos com chaves iguais pode não ser preservada após a ordenação. Isso ocorre porque o Quicksort realiza trocas entre elementos durante o processo de particionamento.\n",
    "\n"
   ]
  }
 ],
 "metadata": {
  "kernelspec": {
   "display_name": "Python 3 (ipykernel)",
   "language": "python",
   "name": "python3"
  },
  "language_info": {
   "codemirror_mode": {
    "name": "ipython",
    "version": 3
   },
   "file_extension": ".py",
   "mimetype": "text/x-python",
   "name": "python",
   "nbconvert_exporter": "python",
   "pygments_lexer": "ipython3",
   "version": "3.10.9"
  }
 },
 "nbformat": 4,
 "nbformat_minor": 5
}
