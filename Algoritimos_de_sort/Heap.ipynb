{
 "cells": [
  {
   "cell_type": "markdown",
   "id": "7824d43a",
   "metadata": {},
   "source": [
    "### Algoritmo Heapsort em Python:\n",
    "\n",
    "#### O Heapsort é um algoritmo de ordenação eficiente que utiliza a estrutura de dados chamada de heap. Ele é baseado em uma árvore binária completa que possui uma propriedade especial, onde o valor de cada nó pai é maior (ou menor, dependendo da orientação do heap) do que o valor dos seus nós filhos.\n",
    "\n",
    "#### Aqui está uma implementação do algoritmo Heapsort em Python:"
   ]
  },
  {
   "cell_type": "code",
   "execution_count": 2,
   "id": "3f47dcbf",
   "metadata": {},
   "outputs": [],
   "source": [
    "def heapify(arr, n, i):\n",
    "    maior = i\n",
    "    esquerda = 2 * i + 1\n",
    "    direita = 2 * i + 2\n",
    "\n",
    "    # Verifica se o filho esquerdo é maior que o pai\n",
    "    if esquerda < n and arr[i] < arr[esquerda]:\n",
    "        maior = esquerda\n",
    "\n",
    "    # Verifica se o filho direito é maior que o pai ou o filho esquerdo\n",
    "    if direita < n and arr[maior] < arr[direita]:\n",
    "        maior = direita\n",
    "\n",
    "    # Se o maior elemento não for o pai, faz a troca\n",
    "    if maior != i:\n",
    "        arr[i], arr[maior] = arr[maior], arr[i]\n",
    "\n",
    "        # Executa a função heapify recursivamente no subárvore afetada\n",
    "        heapify(arr, n, maior)\n",
    "\n",
    "\n",
    "def heapsort(arr):\n",
    "    n = len(arr)\n",
    "\n",
    "    # Constrói o heap (reorganiza o array)\n",
    "    for i in range(n // 2 - 1, -1, -1):\n",
    "        heapify(arr, n, i)\n",
    "\n",
    "    # Extrai um por um os elementos do heap\n",
    "    for i in range(n - 1, 0, -1):\n",
    "        # Troca o elemento raiz (maior elemento) com o último elemento não ordenado\n",
    "        arr[i], arr[0] = arr[0], arr[i]\n",
    "\n",
    "        # Chama heapify no heap reduzido\n",
    "        heapify(arr, i, 0)\n",
    "\n",
    "    return arr"
   ]
  },
  {
   "cell_type": "code",
   "execution_count": 3,
   "id": "d51b187e",
   "metadata": {},
   "outputs": [
    {
     "name": "stdout",
     "output_type": "stream",
     "text": [
      "Array original: [12, 11, 13, 5, 6, 7]\n",
      "Array ordenado: [5, 6, 7, 11, 12, 13]\n"
     ]
    }
   ],
   "source": [
    "array = [12, 11, 13, 5, 6, 7]\n",
    "print(\"Array original:\", array)\n",
    "\n",
    "array_ordenado = heapsort(array)\n",
    "print(\"Array ordenado:\", array_ordenado)\n"
   ]
  },
  {
   "cell_type": "markdown",
   "id": "bb1940f6",
   "metadata": {},
   "source": [
    "##### Melhor caso de tempo: O melhor caso ocorre quando o array já está completamente ordenado. Nesse caso, a etapa de construção do heap terá complexidade O(n) e a etapa de extração do máximo repetida n vezes terá complexidade O(log n). Portanto, o melhor caso de tempo do Heapsort é O(n log n).\n",
    "\n",
    "##### Pior caso de tempo: O pior caso ocorre quando o array está completamente invertido, ou seja, ordenado em ordem decrescente. Nesse caso, tanto a construção do heap quanto a extração do máximo repetida n vezes terão complexidade O(n log n). Portanto, o pior caso de tempo do Heapsort também é O(n log n).\n",
    "\n",
    "##### Caso médio de tempo: O caso médio de tempo do Heapsort também é O(n log n) porque, em qualquer instância de tamanho n, o número de comparações e trocas necessárias para construir o heap e ordenar o array é proporcional a n log n.\n",
    "\n",
    "##### Uso de memória: O Heapsort é um algoritmo in-place, o que significa que ele não requer memória adicional além do próprio array de entrada. A ordenação é feita diretamente no array fornecido como entrada, sem a necessidade de criar estruturas de dados adicionais. Portanto, o uso de memória do Heapsort é O(1).\n",
    "\n",
    "##### Estabilidade: O Heapsort não é um algoritmo de ordenação estável, o que significa que ele não preserva a ordem relativa de elementos com chaves iguais. Durante as etapas de construção do heap e extração do máximo, os elementos são trocados de posição, o que pode alterar a ordem relativa dos elementos com chaves iguais."
   ]
  }
 ],
 "metadata": {
  "kernelspec": {
   "display_name": "Python 3 (ipykernel)",
   "language": "python",
   "name": "python3"
  },
  "language_info": {
   "codemirror_mode": {
    "name": "ipython",
    "version": 3
   },
   "file_extension": ".py",
   "mimetype": "text/x-python",
   "name": "python",
   "nbconvert_exporter": "python",
   "pygments_lexer": "ipython3",
   "version": "3.10.9"
  }
 },
 "nbformat": 4,
 "nbformat_minor": 5
}
