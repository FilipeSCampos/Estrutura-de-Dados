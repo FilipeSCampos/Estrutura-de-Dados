{
 "cells": [
  {
   "cell_type": "markdown",
   "id": "1802a5a8",
   "metadata": {},
   "source": [
    "### Arvore Binaria\n",
    "#### Código com recursividade "
   ]
  },
  {
   "cell_type": "code",
   "execution_count": 1,
   "id": "573680c6",
   "metadata": {},
   "outputs": [],
   "source": [
    "class Node:\n",
    "    \"\"\"\n",
    "    Classe que representa um nó em uma árvore binária.\n",
    "    \"\"\"\n",
    "\n",
    "    def __init__(self, data):\n",
    "        \"\"\"\n",
    "        Inicializa um novo nó com os dados fornecidos.\n",
    "\n",
    "        Args:\n",
    "            data: Os dados a serem armazenados no nó.\n",
    "        \"\"\"\n",
    "        self.data = data\n",
    "        self.left = None\n",
    "        self.right = None\n",
    "\n",
    "\n",
    "class BinaryTree:\n",
    "    \"\"\"\n",
    "    Classe que representa uma árvore binária.\n",
    "    \"\"\"\n",
    "\n",
    "    def __init__(self):\n",
    "        \"\"\"\n",
    "        Inicializa uma nova árvore binária vazia.\n",
    "        \"\"\"\n",
    "        self.root = None\n",
    "\n",
    "    def insert(self, data):\n",
    "        \"\"\"\n",
    "        Insere um novo nó com os dados fornecidos na árvore binária.\n",
    "\n",
    "        Args:\n",
    "            data: Os dados a serem inseridos na árvore.\n",
    "        \"\"\"\n",
    "        if self.root is None:\n",
    "            self.root = Node(data)\n",
    "        else:\n",
    "            self._insert_recursive(data, self.root)\n",
    "\n",
    "    def _insert_recursive(self, data, node):\n",
    "        \"\"\"\n",
    "        Função auxiliar para inserir um novo nó de forma recursiva.\n",
    "\n",
    "        Args:\n",
    "            data: Os dados a serem inseridos na árvore.\n",
    "            node: O nó atual em que estamos verificando a inserção.\n",
    "        \"\"\"\n",
    "        if data < node.data:\n",
    "            if node.left is None:\n",
    "                node.left = Node(data)\n",
    "            else:\n",
    "                self._insert_recursive(data, node.left)\n",
    "        else:\n",
    "            if node.right is None:\n",
    "                node.right = Node(data)\n",
    "            else:\n",
    "                self._insert_recursive(data, node.right)\n",
    "\n",
    "    def search(self, data):\n",
    "        \"\"\"\n",
    "        Procura por um dado específico na árvore binária.\n",
    "\n",
    "        Args:\n",
    "            data: O dado a ser procurado na árvore.\n",
    "\n",
    "        Returns:\n",
    "            True se o dado for encontrado, False caso contrário.\n",
    "        \"\"\"\n",
    "        return self._search_recursive(data, self.root)\n",
    "\n",
    "    def _search_recursive(self, data, node):\n",
    "        \"\"\"\n",
    "        Função auxiliar para procurar um dado de forma recursiva.\n",
    "\n",
    "        Args:\n",
    "            data: O dado a ser procurado na árvore.\n",
    "            node: O nó atual em que estamos fazendo a busca.\n",
    "\n",
    "        Returns:\n",
    "            True se o dado for encontrado, False caso contrário.\n",
    "        \"\"\"\n",
    "        if node is None:\n",
    "            return False\n",
    "\n",
    "        if data == node.data:\n",
    "            return True\n",
    "\n",
    "        if data < node.data:\n",
    "            return self._search_recursive(data, node.left)\n",
    "        else:\n",
    "            return self._search_recursive(data, node.right)\n"
   ]
  },
  {
   "cell_type": "code",
   "execution_count": 2,
   "id": "c8f058bf",
   "metadata": {
    "scrolled": true
   },
   "outputs": [
    {
     "name": "stdout",
     "output_type": "stream",
     "text": [
      "True\n",
      "False\n"
     ]
    }
   ],
   "source": [
    "# Criando uma nova instância da árvore binária\n",
    "tree = BinaryTree()\n",
    "\n",
    "# Inserindo alguns nós na árvore\n",
    "tree.insert(8)\n",
    "tree.insert(3)\n",
    "tree.insert(10)\n",
    "tree.insert(1)\n",
    "tree.insert(6)\n",
    "tree.insert(14)\n",
    "tree.insert(4)\n",
    "tree.insert(7)\n",
    "tree.insert(13)\n",
    "\n",
    "# Procurando por um dado na árvore\n",
    "print(tree.search(6))  # Saída: True\n",
    "print(tree.search(12))  # Saída: False\n"
   ]
  },
  {
   "cell_type": "markdown",
   "id": "aa46adad",
   "metadata": {},
   "source": [
    "        8\n",
    "       / \\\n",
    "      3   10\n",
    "     / \\    \\\n",
    "    1   6    14\n",
    "       / \\   /\n",
    "      4   7 13\n"
   ]
  },
  {
   "cell_type": "markdown",
   "id": "1f839d61",
   "metadata": {},
   "source": [
    "#### Árvore Balanceada:\n",
    "\n",
    "##### Uma árvore binária é considerada balanceada quando a diferença entre as alturas de suas subárvores esquerda e direita é no máximo 1. Em outras palavras, para cada nó da árvore, as alturas de suas subárvores não diferem em mais de 1 nível. O balanceamento da árvore é importante porque afeta o tempo de execução de operações como inserção, busca e remoção. Árvores balanceadas geralmente proporcionam um desempenho mais eficiente nessas operações em comparação com árvores desbalanceadas.\n",
    "\n",
    "#### Árvores Idênticas:\n",
    "\n",
    "##### Árvores idênticas são duas árvores binárias que têm a mesma estrutura e os mesmos valores em todos os nós correspondentes. Isso significa que, para cada par de nós correspondentes nas árvores, seus valores são iguais. A ordem em que os nós são inseridos nas árvores não afeta a identidade delas. A verificação de identidade entre árvores é útil para comparar se duas estruturas de árvores são exatamente iguais, independentemente dos dados contidos em cada nó.\n",
    "\n",
    "##### Em resumo, uma árvore binária balanceada possui uma distribuição equilibrada de nós em suas subárvores esquerda e direita, enquanto árvores idênticas têm a mesma estrutura e valores em todos os nós correspondentes.\n",
    "\n",
    "        4\n",
    "       / \\\n",
    "      2   6\n",
    "     / \\ / \\\n",
    "    1  3 5  7\n",
    "##### Neste exemplo, a diferença entre as alturas da subárvore esquerda e da subárvore direita é de no máximo 1. Cada nó tem alturas equilibradas em suas subárvores."
   ]
  },
  {
   "cell_type": "markdown",
   "id": "0d657cd6",
   "metadata": {},
   "source": [
    "        3\n",
    "       / \\\n",
    "      1   5\n",
    "\n",
    "        3\n",
    "       / \\\n",
    "      1   5\n",
    "\n",
    "##### Neste exemplo, as árvores 1 e 2 têm a mesma estrutura e os mesmos valores em cada nó correspondente. Portanto, elas são consideradas árvores idênticas."
   ]
  },
  {
   "cell_type": "markdown",
   "id": "36165294",
   "metadata": {},
   "source": [
    "##### Esta é uma implementação básica de uma árvore binária em Python. Ela possui uma classe Node para representar um nó na árvore e uma classe BinaryTree para representar a própria árvore binária. A árvore é inicializada vazia no construtor da classe BinaryTree.\n",
    "\n",
    "##### A classe BinaryTree possui métodos para inserir um novo nó na árvore (insert) e para procurar por um dado específico na árvore (search). A inserção é feita de forma recursiva, verificando se o dado é menor ou maior que o nó atual e seguindo para a esquerda ou direita, respectivamente."
   ]
  }
 ],
 "metadata": {
  "kernelspec": {
   "display_name": "Python 3 (ipykernel)",
   "language": "python",
   "name": "python3"
  },
  "language_info": {
   "codemirror_mode": {
    "name": "ipython",
    "version": 3
   },
   "file_extension": ".py",
   "mimetype": "text/x-python",
   "name": "python",
   "nbconvert_exporter": "python",
   "pygments_lexer": "ipython3",
   "version": "3.10.9"
  }
 },
 "nbformat": 4,
 "nbformat_minor": 5
}
