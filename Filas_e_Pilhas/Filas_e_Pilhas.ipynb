{
 "cells": [
  {
   "cell_type": "markdown",
   "id": "600f06a1",
   "metadata": {},
   "source": [
    "### Introdução\n",
    "\n",
    "#### Pilhas e filas são estruturas de dados amplamente utilizadas em programação. Ambas são compostas por um conjunto de elementos, mas têm maneiras diferentes de armazená-los e recuperá-los. Pilhas são estruturas de dados que seguem o princípio \"último a entrar, primeiro a sair\" (LIFO - Last In First Out), enquanto filas seguem o princípio \"primeiro a entrar, primeiro a sair\" (FIFO - First In First Out).\n",
    "\n",
    "#### Este documento fornecerá uma visão geral de como implementar pilhas e filas em Python.\n",
    "\n",
    "### Pilhas\n",
    "\n",
    "#### Uma pilha é uma estrutura de dados linear que armazena elementos em uma ordem específica. Cada elemento é adicionado à pilha no topo, e o último elemento adicionado é o primeiro a ser removido. A operação de adicionar um elemento a uma pilha é conhecida como \"push\", enquanto a operação de remover o elemento mais recente é conhecida como \"pop\". Além disso, a operação de \"peek\" permite ver o elemento mais recente adicionado à pilha sem removê-lo.\n",
    "\n",
    "### Implementação de pilhas em Python\n",
    "\n",
    "#### Uma pilha pode ser implementada em Python usando uma lista. A lista pode ser vista como uma pilha em que o último elemento adicionado é sempre o primeiro a ser removido.\n",
    "\n",
    "#### Aqui está um exemplo simples de uma classe Pilha em Python:"
   ]
  },
  {
   "cell_type": "code",
   "execution_count": 1,
   "id": "7f8a01fd",
   "metadata": {},
   "outputs": [],
   "source": [
    "class Pilha:\n",
    "    def __init__(self):\n",
    "        self.itens = []\n",
    "\n",
    "    def empilhar(self, item):\n",
    "        self.itens.append(item)\n",
    "\n",
    "    def desempilhar(self):\n",
    "        return self.itens.pop()\n",
    "\n",
    "    def topo(self):\n",
    "        return self.itens[-1]\n",
    "\n",
    "    def esta_vazia(self):\n",
    "        return len(self.itens) == 0\n"
   ]
  },
  {
   "cell_type": "markdown",
   "id": "48dbefa0",
   "metadata": {},
   "source": [
    "#### O método __init__ inicializa a lista que armazenará os elementos da pilha.  O método empilhar adiciona um elemento ao topo da pilha. O método desempilhar remove e retorna o elemento mais recente adicionado à pilha. O método topo retorna o elemento mais recente adicionado à pilha sem removê-lo. O método esta_vazia retorna True se a pilha estiver vazia e False caso contrário."
   ]
  },
  {
   "cell_type": "markdown",
   "id": "ab75db5f",
   "metadata": {},
   "source": [
    "### Filas\n",
    "\n",
    "#### Uma fila é uma estrutura de dados linear que armazena elementos em uma ordem específica. Cada elemento é adicionado ao final da fila, e o primeiro elemento adicionado é o primeiro a ser removido. A operação de adicionar um elemento a uma fila é conhecida como \"enqueue\", enquanto a operação de remover o primeiro elemento adicionado é conhecida como \"dequeue\". Além disso, a operação de \"peek\" permite ver o primeiro elemento adicionado à fila sem removê-lo.\n",
    "\n",
    "### Implementação de filas em Python\n",
    "\n",
    "#### Uma fila pode ser implementada em Python usando uma lista. A lista pode ser vista como uma fila em que o primeiro elemento adicionado é sempre o primeiro a ser removido.\n",
    "\n",
    "#### Aqui está um exemplo simples de uma classe Fila em Python:"
   ]
  },
  {
   "cell_type": "code",
   "execution_count": 2,
   "id": "75f02757",
   "metadata": {},
   "outputs": [],
   "source": [
    "class Fila:\n",
    "    def __init__(self):\n",
    "        self.itens = []\n",
    "\n",
    "    def enfileirar(self, item):\n",
    "        self.itens.append(item)\n",
    "\n",
    "    def desenfileirar(self):\n",
    "        return self.itens.pop(0)\n",
    "\n",
    "    def frente(self):\n",
    "        return self.itens[0]\n",
    "\n",
    "    def esta_vazia(self):\n",
    "        return len(self.itens) == 0\n"
   ]
  },
  {
   "cell_type": "markdown",
   "id": "b7cb4f59",
   "metadata": {},
   "source": [
    "#### O método __init__ inicializa a lista que armazenará os elementos da fila. O método enqueue adiciona um elemento ao final da fila. O método dequeue remove e retorna o primeiro elemento adicionado à fila. O método peek retorna o primeiro elemento adicionado à fila sem removê-lo. O método esta_vazia retorna True se a fila estiver vazia e False caso contrário."
   ]
  },
  {
   "cell_type": "markdown",
   "id": "854c0bd0",
   "metadata": {},
   "source": [
    "### Exemplo de uso de pilhas e filas\n",
    "\n",
    "#### Aqui está um exemplo simples que usa uma pilha e uma fila para verificar se uma palavra é um palíndromo \n",
    "#### (ou seja, se pode ser lida da mesma forma de trás para frente e de frente para trás):"
   ]
  },
  {
   "cell_type": "code",
   "execution_count": 4,
   "id": "7ff6f1ee",
   "metadata": {},
   "outputs": [],
   "source": [
    "def eh_palindromo(palavra):\n",
    "    pilha = Pilha()\n",
    "    fila = Fila()\n",
    "\n",
    "    for letra in palavra:\n",
    "        pilha.empilhar(letra)\n",
    "        fila.enfileirar(letra)\n",
    "\n",
    "    while not pilha.esta_vazia() and not fila.esta_vazia():\n",
    "        if pilha.desempilhar() != fila.desenfileirar():\n",
    "            return False\n",
    "\n",
    "    return True\n"
   ]
  },
  {
   "cell_type": "code",
   "execution_count": 14,
   "id": "3296e01f",
   "metadata": {},
   "outputs": [
    {
     "name": "stdout",
     "output_type": "stream",
     "text": [
      "False\n",
      "True\n",
      "True\n"
     ]
    }
   ],
   "source": [
    "print(eh_palindromo('ola'))\n",
    "print(eh_palindromo('ovo'))\n",
    "print(eh_palindromo('subinoonibus'))"
   ]
  }
 ],
 "metadata": {
  "kernelspec": {
   "display_name": "Python 3 (ipykernel)",
   "language": "python",
   "name": "python3"
  },
  "language_info": {
   "codemirror_mode": {
    "name": "ipython",
    "version": 3
   },
   "file_extension": ".py",
   "mimetype": "text/x-python",
   "name": "python",
   "nbconvert_exporter": "python",
   "pygments_lexer": "ipython3",
   "version": "3.9.13"
  }
 },
 "nbformat": 4,
 "nbformat_minor": 5
}
